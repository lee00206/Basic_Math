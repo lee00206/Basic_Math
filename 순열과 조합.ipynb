{
 "cells": [
  {
   "cell_type": "markdown",
   "metadata": {},
   "source": [
    "### 순열 구하기"
   ]
  },
  {
   "cell_type": "code",
   "execution_count": 2,
   "metadata": {},
   "outputs": [
    {
     "name": "stdout",
     "output_type": "stream",
     "text": [
      "[(1, 2), (1, 3), (2, 1), (2, 3), (3, 1), (3, 2)]\n"
     ]
    }
   ],
   "source": [
    "# itertools를 사용하면 순열과 조합을 쉽게 구현 가능\n",
    "# itertools.permutation을 이용하면 for 문을 사용하지 않고도 순열을 구할 수 있음\n",
    "\n",
    "from itertools import permutations\n",
    "\n",
    "# 1, 2, 3 숫자가 적힌 카드가 있을 경우\n",
    "lists = [1, 2, 3]\n",
    "\n",
    "# 카드 중 두 장을 꺼내어 경우의 수\n",
    "a = list(permutations(lists, 2)) # 순열은 permutations() 함수를 사용\n",
    "\n",
    "print(a)"
   ]
  },
  {
   "cell_type": "markdown",
   "metadata": {},
   "source": [
    "### 조합 구하기"
   ]
  },
  {
   "cell_type": "code",
   "execution_count": 3,
   "metadata": {},
   "outputs": [
    {
     "name": "stdout",
     "output_type": "stream",
     "text": [
      "[(1, 2), (1, 3), (2, 3)]\n"
     ]
    }
   ],
   "source": [
    "from itertools import combinations\n",
    "\n",
    "lists = [1, 2, 3]\n",
    "\n",
    "# 카드 두 장을 꺼내는 경우의 수\n",
    "a = list(combinations(lists, 2)) # 조합은 combinations() 함수를 사용\n",
    "print(a)"
   ]
  },
  {
   "cell_type": "code",
   "execution_count": null,
   "metadata": {},
   "outputs": [],
   "source": []
  }
 ],
 "metadata": {
  "kernelspec": {
   "display_name": "Python 3",
   "language": "python",
   "name": "python3"
  },
  "language_info": {
   "codemirror_mode": {
    "name": "ipython",
    "version": 3
   },
   "file_extension": ".py",
   "mimetype": "text/x-python",
   "name": "python",
   "nbconvert_exporter": "python",
   "pygments_lexer": "ipython3",
   "version": "3.8.3"
  }
 },
 "nbformat": 4,
 "nbformat_minor": 4
}
