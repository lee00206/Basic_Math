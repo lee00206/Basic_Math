{
 "cells": [
  {
   "cell_type": "markdown",
   "metadata": {},
   "source": [
    "### 베이지안 확률"
   ]
  },
  {
   "cell_type": "code",
   "execution_count": 16,
   "metadata": {},
   "outputs": [
    {
     "name": "stderr",
     "output_type": "stream",
     "text": [
      "[nltk_data] Downloading package stopwords to\n",
      "[nltk_data]     /Users/ChaeEun/nltk_data...\n",
      "[nltk_data]   Package stopwords is already up-to-date!\n"
     ]
    },
    {
     "data": {
      "text/html": [
       "<div>\n",
       "<style scoped>\n",
       "    .dataframe tbody tr th:only-of-type {\n",
       "        vertical-align: middle;\n",
       "    }\n",
       "\n",
       "    .dataframe tbody tr th {\n",
       "        vertical-align: top;\n",
       "    }\n",
       "\n",
       "    .dataframe thead th {\n",
       "        text-align: right;\n",
       "    }\n",
       "</style>\n",
       "<table border=\"1\" class=\"dataframe\">\n",
       "  <thead>\n",
       "    <tr style=\"text-align: right;\">\n",
       "      <th></th>\n",
       "      <th>num</th>\n",
       "      <th>label</th>\n",
       "      <th>text</th>\n",
       "      <th>label_num</th>\n",
       "    </tr>\n",
       "  </thead>\n",
       "  <tbody>\n",
       "    <tr>\n",
       "      <th>0</th>\n",
       "      <td>1</td>\n",
       "      <td>spam</td>\n",
       "      <td>your free lottery</td>\n",
       "      <td>1</td>\n",
       "    </tr>\n",
       "    <tr>\n",
       "      <th>1</th>\n",
       "      <td>2</td>\n",
       "      <td>spam</td>\n",
       "      <td>free lottery free you</td>\n",
       "      <td>1</td>\n",
       "    </tr>\n",
       "    <tr>\n",
       "      <th>2</th>\n",
       "      <td>3</td>\n",
       "      <td>ham</td>\n",
       "      <td>your free apple</td>\n",
       "      <td>0</td>\n",
       "    </tr>\n",
       "    <tr>\n",
       "      <th>3</th>\n",
       "      <td>4</td>\n",
       "      <td>ham</td>\n",
       "      <td>free to contact me</td>\n",
       "      <td>0</td>\n",
       "    </tr>\n",
       "    <tr>\n",
       "      <th>4</th>\n",
       "      <td>5</td>\n",
       "      <td>ham</td>\n",
       "      <td>I won award</td>\n",
       "      <td>0</td>\n",
       "    </tr>\n",
       "    <tr>\n",
       "      <th>5</th>\n",
       "      <td>6</td>\n",
       "      <td>spam</td>\n",
       "      <td>my lottery ticket</td>\n",
       "      <td>1</td>\n",
       "    </tr>\n",
       "  </tbody>\n",
       "</table>\n",
       "</div>"
      ],
      "text/plain": [
       "  num label                   text  label_num\n",
       "0   1  spam      your free lottery          1\n",
       "1   2  spam  free lottery free you          1\n",
       "2   3   ham        your free apple          0\n",
       "3   4   ham     free to contact me          0\n",
       "4   5   ham            I won award          0\n",
       "5   6  spam      my lottery ticket          1"
      ]
     },
     "execution_count": 16,
     "metadata": {},
     "output_type": "execute_result"
    }
   ],
   "source": [
    "import pandas as pd\n",
    "import string\n",
    "import numpy as np\n",
    "from nltk.corpus import stopwords\n",
    "nltk.download('stopwords')\n",
    "import nltk\n",
    "\n",
    "# 정상메일과 스펨메일을 구분하기 위해 다음과 같은 데이터셋을 사용\n",
    "\n",
    "data = [[\"1\", \"spam\", \"your free lottery\", 1],\n",
    "       [\"2\", \"spam\", \"free lottery free you\", 1],\n",
    "       [\"3\", \"ham\", \"your free apple\", 0],\n",
    "       [\"4\", \"ham\", \"free to contact me\", 0],\n",
    "       [\"5\", \"ham\", \"I won award\", 0],\n",
    "       [\"6\", \"spam\", \"my lottery ticket\", 1]]\n",
    "\n",
    "df = pd.DataFrame(data, columns = [\"num\", \"label\", \"text\", \"label_num\"])\n",
    "\n",
    "df"
   ]
  },
  {
   "cell_type": "code",
   "execution_count": 25,
   "metadata": {
    "scrolled": true
   },
   "outputs": [
    {
     "name": "stdout",
     "output_type": "stream",
     "text": [
      "[1 0 1 0]\n",
      "[1 0 1 0]\n"
     ]
    }
   ],
   "source": [
    "def process_text(text):\n",
    "    \n",
    "    # text에서 구두점을 삭제\n",
    "    nopunc = [char for char in text if char not in string.punctuation]\n",
    "    nopunc = ''.join(nopunc) # join: 리스트에서 문자열로\n",
    "    \n",
    "    # text에서 무의미한 단어(접미사, 조사 등)는 삭제\n",
    "    cleaned_words = [word for word in nopunc.split()\n",
    "                    if word.lower() not in stopwords.words('english')]\n",
    "    return cleaned_words\n",
    "\n",
    "# process_text 함수를 적용하여 데이터 세트의 텍스트 데이터를 토큰화\n",
    "df['text'].head().apply(process_text)\n",
    "\n",
    "# text를 토큰 수의 행렬로 변환\n",
    "from sklearn.feature_extraction.text import CountVectorizer\n",
    "\n",
    "messages_bow = CountVectorizer(analyzer = process_text).fit_transform(df['text'])\n",
    "\n",
    "# 데이터를 80%의 training과 20%의 testing 데이터셋으로 분리\n",
    "from sklearn.model_selection import train_test_split\n",
    "\n",
    "x_train, x_test, y_train, y_test = train_test_split(messages_bow, df[\"label_num\"], test_size = 0.20, random_state = 0)\n",
    "\n",
    "# 다항식 나이브베이즈 모델로 만들고 훈련\n",
    "from sklearn.naive_bayes import MultinomialNB\n",
    "\n",
    "classifier = MultinomialNB()\n",
    "classifier.fit(x_train, y_train)\n",
    "\n",
    "# 데이터셋 분류에 대한 예측 및 실제 관측 값을 보여주기\n",
    "print(classifier.predict(x_train)) # 예측 값 출력\n",
    "print(y_train.values) # 실제 관측 값 출력"
   ]
  },
  {
   "cell_type": "code",
   "execution_count": 26,
   "metadata": {},
   "outputs": [
    {
     "name": "stdout",
     "output_type": "stream",
     "text": [
      "              precision    recall  f1-score   support\n",
      "\n",
      "           0       1.00      1.00      1.00         2\n",
      "           1       1.00      1.00      1.00         2\n",
      "\n",
      "    accuracy                           1.00         4\n",
      "   macro avg       1.00      1.00      1.00         4\n",
      "weighted avg       1.00      1.00      1.00         4\n",
      "\n",
      "Confusion Matrix: \n",
      " [[2 0]\n",
      " [0 2]]\n",
      "\n",
      "Accuracy:  1.0\n"
     ]
    }
   ],
   "source": [
    "# 학습 데이터셋에서 모델의 정확도를 표현\n",
    "from sklearn.metrics import classification_report\n",
    "from sklearn.metrics import confusion_matrix, accuracy_score\n",
    "\n",
    "pred = classifier.predict(x_train) # 예측 값 출력\n",
    "\n",
    "# 사이킷런 패키지의 metrics 패키지는 정밀도, 재현율, F1 점수를 구함\n",
    "print(classification_report(y_train, pred))\n",
    "\n",
    "# 혼동행렬로 표현\n",
    "print(\"Confusion Matrix: \\n\", confusion_matrix(y_train, pred))\n",
    "print()\n",
    "print(\"Accuracy: \", accuracy_score(y_train, pred)) # 정확도 점수로 표현"
   ]
  },
  {
   "cell_type": "code",
   "execution_count": 27,
   "metadata": {},
   "outputs": [
    {
     "name": "stdout",
     "output_type": "stream",
     "text": [
      "Predicted value:  [1 1]\n"
     ]
    }
   ],
   "source": [
    "# 테스트 데이터셋(x_test & y_test)에서 모델의 정확도를 테스트\n",
    "print(\"Predicted value: \", classifier.predict(x_test))"
   ]
  },
  {
   "cell_type": "code",
   "execution_count": 28,
   "metadata": {},
   "outputs": [
    {
     "name": "stdout",
     "output_type": "stream",
     "text": [
      "Actual value:  [1 0]\n"
     ]
    }
   ],
   "source": [
    "# 실제 관측 값 출력\n",
    "print(\"Actual value: \", y_test.values)"
   ]
  },
  {
   "cell_type": "code",
   "execution_count": 30,
   "metadata": {},
   "outputs": [
    {
     "name": "stdout",
     "output_type": "stream",
     "text": [
      "              precision    recall  f1-score   support\n",
      "\n",
      "           0       0.00      0.00      0.00         1\n",
      "           1       0.50      1.00      0.67         1\n",
      "\n",
      "    accuracy                           0.50         2\n",
      "   macro avg       0.25      0.50      0.33         2\n",
      "weighted avg       0.25      0.50      0.33         2\n",
      "\n",
      "Confusion Matrix: \n",
      " [[0 1]\n",
      " [0 1]]\n",
      "\n",
      "Accuracy:  0.5\n"
     ]
    },
    {
     "name": "stderr",
     "output_type": "stream",
     "text": [
      "/Users/ChaeEun/opt/anaconda3/lib/python3.8/site-packages/sklearn/metrics/_classification.py:1221: UndefinedMetricWarning: Precision and F-score are ill-defined and being set to 0.0 in labels with no predicted samples. Use `zero_division` parameter to control this behavior.\n",
      "  _warn_prf(average, modifier, msg_start, len(result))\n"
     ]
    }
   ],
   "source": [
    "# 테스트 데이터셋에서 모델을 평가\n",
    "from sklearn.metrics import classification_report\n",
    "from sklearn.metrics import confusion_matrix, accuracy_score\n",
    "\n",
    "pred = classifier.predict(x_test)\n",
    "print(classification_report(y_test, pred))\n",
    "print(\"Confusion Matrix: \\n\", confusion_matrix(y_test, pred))\n",
    "print()\n",
    "print(\"Accuracy: \", accuracy_score(y_test, pred))"
   ]
  },
  {
   "cell_type": "code",
   "execution_count": null,
   "metadata": {},
   "outputs": [],
   "source": []
  }
 ],
 "metadata": {
  "kernelspec": {
   "display_name": "Python 3",
   "language": "python",
   "name": "python3"
  },
  "language_info": {
   "codemirror_mode": {
    "name": "ipython",
    "version": 3
   },
   "file_extension": ".py",
   "mimetype": "text/x-python",
   "name": "python",
   "nbconvert_exporter": "python",
   "pygments_lexer": "ipython3",
   "version": "3.8.3"
  }
 },
 "nbformat": 4,
 "nbformat_minor": 4
}
