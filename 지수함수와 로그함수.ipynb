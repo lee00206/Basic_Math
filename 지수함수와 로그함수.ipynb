{
 "cells": [
  {
   "cell_type": "markdown",
   "metadata": {},
   "source": [
    "# 지수함수"
   ]
  },
  {
   "cell_type": "code",
   "execution_count": 8,
   "metadata": {},
   "outputs": [
    {
     "name": "stdout",
     "output_type": "stream",
     "text": [
      "pow 결과:  32.0\n",
      "sqrt 결과:  1.41\n",
      "exp 결과:  7.39\n"
     ]
    }
   ],
   "source": [
    "import math\n",
    "\n",
    "# 2^5 계산\n",
    "pow = math.pow(2,5)\n",
    "print(\"pow 결과: \", pow)\n",
    "\n",
    "# 2의 제곱근\n",
    "sqrt = math.sqrt(2)\n",
    "print(\"sqrt 결과: \", format(sqrt, '.2f'))\n",
    "\n",
    "# e의 2 제곱\n",
    "exp = math.exp(2)\n",
    "print(\"exp 결과: \", format(exp, '.2f'))"
   ]
  },
  {
   "cell_type": "markdown",
   "metadata": {},
   "source": [
    "# 로그함수"
   ]
  },
  {
   "cell_type": "code",
   "execution_count": 9,
   "metadata": {},
   "outputs": [
    {
     "data": {
      "text/plain": [
       "0.5"
      ]
     },
     "execution_count": 9,
     "metadata": {},
     "output_type": "execute_result"
    }
   ],
   "source": [
    "# log 값을 얻기 위해 log() 함수를 사용\n",
    "\n",
    "# 밑이 4이고, 진수가 2인 로그\n",
    "math.log(2,4)"
   ]
  },
  {
   "cell_type": "code",
   "execution_count": null,
   "metadata": {},
   "outputs": [],
   "source": []
  }
 ],
 "metadata": {
  "kernelspec": {
   "display_name": "Python 3",
   "language": "python",
   "name": "python3"
  },
  "language_info": {
   "codemirror_mode": {
    "name": "ipython",
    "version": 3
   },
   "file_extension": ".py",
   "mimetype": "text/x-python",
   "name": "python",
   "nbconvert_exporter": "python",
   "pygments_lexer": "ipython3",
   "version": "3.8.3"
  }
 },
 "nbformat": 4,
 "nbformat_minor": 4
}
