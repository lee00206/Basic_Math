{
 "cells": [
  {
   "cell_type": "markdown",
   "metadata": {},
   "source": [
    "# 극한값 구하기"
   ]
  },
  {
   "cell_type": "markdown",
   "metadata": {},
   "source": [
    "극한값을 구하기 위해서는 SymPy에서 Limit과 S 함수를 가져와야 한다.<br>\n",
    "Limit 함수로는 극한값을 구할 수 있으며, S 함수로는 무한 (infinity)의 정의를 포함할 수 있다. "
   ]
  },
  {
   "cell_type": "code",
   "execution_count": 7,
   "metadata": {},
   "outputs": [
    {
     "data": {
      "text/latex": [
       "$\\displaystyle 0$"
      ],
      "text/plain": [
       "0"
      ]
     },
     "execution_count": 7,
     "metadata": {},
     "output_type": "execute_result"
    }
   ],
   "source": [
    "# lim(x -> ∞) 1/x 에 대한 극한값 구하기\n",
    "\n",
    "from sympy import Limit, S, Symbol\n",
    "\n",
    "# x 변수를 생성하고, x가 0으로 한없이 가까워질 때의 1/x에 대한 극한값 구하기\n",
    "x = Symbol('x')\n",
    "Limit(1/x, x, S.Infinity).doit()"
   ]
  },
  {
   "cell_type": "code",
   "execution_count": 8,
   "metadata": {},
   "outputs": [
    {
     "data": {
      "text/latex": [
       "$\\displaystyle \\infty$"
      ],
      "text/plain": [
       "oo"
      ]
     },
     "execution_count": 8,
     "metadata": {},
     "output_type": "execute_result"
    }
   ],
   "source": [
    "Limit(1/x, x, 0).doit() # 우극한값 구하기"
   ]
  },
  {
   "cell_type": "code",
   "execution_count": 9,
   "metadata": {},
   "outputs": [
    {
     "data": {
      "text/latex": [
       "$\\displaystyle -\\infty$"
      ],
      "text/plain": [
       "-oo"
      ]
     },
     "execution_count": 9,
     "metadata": {},
     "output_type": "execute_result"
    }
   ],
   "source": [
    "Limit(1/x, x, 0, dir='-').doit() #좌극한값 구하기"
   ]
  },
  {
   "cell_type": "markdown",
   "metadata": {},
   "source": [
    "# 다항함수의 미분"
   ]
  },
  {
   "cell_type": "markdown",
   "metadata": {},
   "source": [
    "### 평균변화율 구하기"
   ]
  },
  {
   "cell_type": "code",
   "execution_count": 11,
   "metadata": {},
   "outputs": [
    {
     "name": "stdout",
     "output_type": "stream",
     "text": [
      "8\n"
     ]
    }
   ],
   "source": [
    "def average(a, b):\n",
    "    m = max(a, b)\n",
    "    n = min(a, b)\n",
    "    x = Symbol('x')\n",
    "    \n",
    "    fx = 2 * x**2 + 4*x + 7\n",
    "    fb = fx.subs(x, m) # 함수에 m 대입\n",
    "    fa = fx.subs(x, n) # 함수에 n 대입\n",
    "    \n",
    "    result = (fb - fa) / (b - a)\n",
    "    return result\n",
    "\n",
    "print(average(0, 2))"
   ]
  },
  {
   "cell_type": "markdown",
   "metadata": {},
   "source": [
    "### 미분계수(순간변화율) 구하기"
   ]
  },
  {
   "cell_type": "code",
   "execution_count": 13,
   "metadata": {},
   "outputs": [
    {
     "name": "stdout",
     "output_type": "stream",
     "text": [
      "fx에서 x = 3에서의 순간변화율(미분계수는)  16 입니다.\n"
     ]
    }
   ],
   "source": [
    "from sympy import Derivative, symbols\n",
    "\n",
    "x = symbols('x')\n",
    "fx = 2*x ** 2 + 4*x + 7\n",
    "\n",
    "# fprime이라는 Derivative 클래스의 객체를 생성한 후 subs() 메서드를 사용하여 x = 3에서의 미분계수 f'(3)을 구하기\n",
    "fprime = Derivative(fx, x).doit() # x 미분\n",
    "n = fprime.subs({x: 3})\n",
    "print('fx에서 x = 3에서의 순간변화율(미분계수는) ', n, '입니다.')"
   ]
  },
  {
   "cell_type": "markdown",
   "metadata": {},
   "source": [
    "### 도함수 구하기"
   ]
  },
  {
   "cell_type": "code",
   "execution_count": 14,
   "metadata": {},
   "outputs": [
    {
     "data": {
      "text/latex": [
       "$\\displaystyle 4 x + 4$"
      ],
      "text/plain": [
       "4*x + 4"
      ]
     },
     "execution_count": 14,
     "metadata": {},
     "output_type": "execute_result"
    }
   ],
   "source": [
    "x = symbols('x')\n",
    "fx = 2*x ** 2 + 4*x + 7\n",
    "\n",
    "Derivative(fx, x).doit()"
   ]
  },
  {
   "cell_type": "markdown",
   "metadata": {},
   "source": [
    "### 미분 계산하기"
   ]
  },
  {
   "cell_type": "code",
   "execution_count": 16,
   "metadata": {},
   "outputs": [
    {
     "name": "stdout",
     "output_type": "stream",
     "text": [
      "6*x**2 + 6*x + 1\n"
     ]
    }
   ],
   "source": [
    "import sympy as sym\n",
    "\n",
    "x = sym.Symbol('x')\n",
    "a = sym.diff((2*x ** 3 + 3*x ** 2 + x + 1), x)\n",
    "print(a)"
   ]
  },
  {
   "cell_type": "code",
   "execution_count": null,
   "metadata": {},
   "outputs": [],
   "source": []
  }
 ],
 "metadata": {
  "kernelspec": {
   "display_name": "Python 3",
   "language": "python",
   "name": "python3"
  },
  "language_info": {
   "codemirror_mode": {
    "name": "ipython",
    "version": 3
   },
   "file_extension": ".py",
   "mimetype": "text/x-python",
   "name": "python",
   "nbconvert_exporter": "python",
   "pygments_lexer": "ipython3",
   "version": "3.8.3"
  }
 },
 "nbformat": 4,
 "nbformat_minor": 4
}
